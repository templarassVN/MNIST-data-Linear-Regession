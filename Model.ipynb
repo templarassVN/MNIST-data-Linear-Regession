{
 "cells": [
  {
   "cell_type": "code",
   "execution_count": 1,
   "id": "d97757bf",
   "metadata": {},
   "outputs": [],
   "source": [
    "import time\n",
    "import matplotlib.pyplot as plt\n",
    "import numpy as np\n",
    "import pandas as pd\n",
    "import cv2\n",
    "from scipy import ndimage\n",
    "\n",
    "from sklearn.datasets import fetch_openml\n",
    "from sklearn.linear_model import LogisticRegression\n",
    "from sklearn.model_selection import train_test_split\n",
    "from sklearn.preprocessing import StandardScaler\n",
    "from sklearn.utils import check_random_state\n",
    "from sklearn.pipeline import make_pipeline\n",
    "from sklearn.preprocessing import FunctionTransformer\n",
    "from sklearn.decomposition import PCA"
   ]
  },
  {
   "cell_type": "code",
   "execution_count": 2,
   "id": "5d7d05ad",
   "metadata": {},
   "outputs": [],
   "source": [
    "# Load data from https://www.openml.org/d/554\n",
    "X, y = fetch_openml('mnist_784', version=1, return_X_y=True, as_frame=False)"
   ]
  },
  {
   "cell_type": "code",
   "execution_count": 3,
   "id": "d3386b99",
   "metadata": {},
   "outputs": [],
   "source": [
    "X_train, X_test, y_train, y_test = train_test_split(\n",
    " X, y, test_size=1/7.0, random_state=0)"
   ]
  },
  {
   "cell_type": "code",
   "execution_count": 4,
   "id": "c2506d57",
   "metadata": {},
   "outputs": [],
   "source": [
    "# Loại bỏ các điểm ảnh ở biên (giá trị 0)\n",
    "def crop(data):\n",
    "    data = data.reshape(28,28)\n",
    "    r = data[~np.all(data == 0, axis=1)] # loại bỏ hàng toàn 0\n",
    "    idx = np.argwhere(np.all(r[..., :] == 0, axis=0)) # vị trí cột toàn 0\n",
    "    c = np.delete(r, idx, axis=1) # loại bỏ cột toàn 0\n",
    "    res = cv2.resize(c, dsize=(28, 28)) # Trả lại về size 28x28\n",
    "    res = res.flatten() # Chuyển lại thành array 1 chiều như ban đầu\n",
    "    return res"
   ]
  },
  {
   "cell_type": "code",
   "execution_count": 5,
   "id": "856d629d",
   "metadata": {},
   "outputs": [],
   "source": [
    "X_train_crop = np.apply_along_axis(crop, 1, X_train)\n",
    "X_test_crop = np.apply_along_axis(crop, 1, X_test)"
   ]
  },
  {
   "cell_type": "code",
   "execution_count": 6,
   "id": "f6402721",
   "metadata": {},
   "outputs": [
    {
     "name": "stdout",
     "output_type": "stream",
     "text": [
      "Time to fit model: 268.762900352478s\n"
     ]
    },
    {
     "name": "stderr",
     "output_type": "stream",
     "text": [
      "/home/bao/anaconda3/lib/python3.8/site-packages/sklearn/linear_model/_logistic.py:763: ConvergenceWarning: lbfgs failed to converge (status=1):\n",
      "STOP: TOTAL NO. of ITERATIONS REACHED LIMIT.\n",
      "\n",
      "Increase the number of iterations (max_iter) or scale the data as shown in:\n",
      "    https://scikit-learn.org/stable/modules/preprocessing.html\n",
      "Please also refer to the documentation for alternative solver options:\n",
      "    https://scikit-learn.org/stable/modules/linear_model.html#logistic-regression\n",
      "  n_iter_i = _check_optimize_result(\n"
     ]
    }
   ],
   "source": [
    "start = time.time()\n",
    "logreg_crop_model = LogisticRegression(solver='lbfgs',max_iter= 500).fit(X_train_crop, y_train)\n",
    "end = time.time()\n",
    "\n",
    "print('Time to fit model: {}s'.format(end-start))"
   ]
  },
  {
   "cell_type": "code",
   "execution_count": 7,
   "id": "4937c10e",
   "metadata": {},
   "outputs": [],
   "source": [
    "# save the model to disk\n",
    "import pickle\n",
    "filename = 'finalized_model.sav'\n",
    "pickle.dump(logreg_crop_model, open(filename, 'wb'))"
   ]
  },
  {
   "cell_type": "code",
   "execution_count": 8,
   "id": "2803e45e",
   "metadata": {},
   "outputs": [
    {
     "name": "stdout",
     "output_type": "stream",
     "text": [
      "Train Error: 4.778333333333333 %\n",
      "Test Error: 6.909999999999999 %\n",
      "\n"
     ]
    }
   ],
   "source": [
    "# load the model from disk\n",
    "loaded_model = pickle.load(open(filename, 'rb'))\n",
    "\n",
    "preds_train_crop = loaded_model.predict(X_train_crop)\n",
    "preds_test_crop = loaded_model.predict(X_test_crop)\n",
    "\n",
    "# Evaluation\n",
    "print('Train Error: {} %'.format(np.mean(preds_train_crop != y_train)*100))\n",
    "print('Test Error: {} %\\n'.format(np.mean(preds_test_crop != y_test)*100))"
   ]
  },
  {
   "cell_type": "code",
   "execution_count": null,
   "id": "6a2345bf",
   "metadata": {},
   "outputs": [],
   "source": []
  }
 ],
 "metadata": {
  "kernelspec": {
   "display_name": "Python 3",
   "language": "python",
   "name": "python3"
  },
  "language_info": {
   "codemirror_mode": {
    "name": "ipython",
    "version": 3
   },
   "file_extension": ".py",
   "mimetype": "text/x-python",
   "name": "python",
   "nbconvert_exporter": "python",
   "pygments_lexer": "ipython3",
   "version": "3.8.5"
  }
 },
 "nbformat": 4,
 "nbformat_minor": 5
}
