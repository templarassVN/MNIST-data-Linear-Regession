{
 "cells": [
  {
   "cell_type": "code",
   "execution_count": 1,
   "id": "1d641d3f",
   "metadata": {},
   "outputs": [],
   "source": [
    "import time\n",
    "import matplotlib.pyplot as plt\n",
    "import numpy as np\n",
    "import pandas as pd\n",
    "import cv2\n",
    "from scipy import ndimage\n",
    "\n",
    "from sklearn.datasets import fetch_openml\n",
    "from sklearn.linear_model import LogisticRegression\n",
    "from sklearn.model_selection import train_test_split\n",
    "from sklearn.preprocessing import StandardScaler\n",
    "from sklearn.utils import check_random_state\n",
    "from sklearn.pipeline import make_pipeline\n",
    "from sklearn.preprocessing import FunctionTransformer\n",
    "from sklearn.decomposition import PCA"
   ]
  },
  {
   "cell_type": "code",
   "execution_count": 2,
   "id": "c194964a",
   "metadata": {},
   "outputs": [],
   "source": [
    "# Load data from https://www.openml.org/d/554\n",
    "X, y = fetch_openml('mnist_784', version=1, return_X_y=True, as_frame=False)"
   ]
  },
  {
   "cell_type": "code",
   "execution_count": 3,
   "id": "303c46f3",
   "metadata": {},
   "outputs": [],
   "source": [
    "X_train, X_test, y_train, y_test = train_test_split(\n",
    " X, y, test_size=1/7.0, random_state=0)"
   ]
  },
  {
   "cell_type": "code",
   "execution_count": 4,
   "id": "b0367128",
   "metadata": {},
   "outputs": [],
   "source": [
    "# Loại bỏ các điểm ảnh ở biên (giá trị 0)\n",
    "def crop(data):\n",
    "    data = data.reshape(28,28)\n",
    "    r = data[~np.all(data == 0, axis=1)] # loại bỏ hàng toàn 0\n",
    "    idx = np.argwhere(np.all(r[..., :] == 0, axis=0)) # vị trí cột toàn 0\n",
    "    c = np.delete(r, idx, axis=1) # loại bỏ cột toàn 0\n",
    "    res = cv2.resize(c, dsize=(28, 28)) # Trả lại về size 28x28\n",
    "    res = res.flatten() # Chuyển lại thành array 1 chiều như ban đầu\n",
    "    return res"
   ]
  },
  {
   "cell_type": "code",
   "execution_count": 5,
   "id": "701c4a24",
   "metadata": {},
   "outputs": [],
   "source": [
    "def cropData(data):\n",
    "    return np.apply_along_axis(crop, 1, data)"
   ]
  },
  {
   "cell_type": "code",
   "execution_count": 6,
   "id": "de0e3715",
   "metadata": {},
   "outputs": [],
   "source": [
    "preprocess_pipeline = make_pipeline(FunctionTransformer(cropData),\n",
    "                                    StandardScaler())"
   ]
  },
  {
   "cell_type": "code",
   "execution_count": 7,
   "id": "db0e800e",
   "metadata": {},
   "outputs": [],
   "source": [
    "X_train_crop = preprocess_pipeline.fit_transform(X_train)\n",
    "X_test_crop = preprocess_pipeline.fit_transform(X_test)"
   ]
  },
  {
   "cell_type": "code",
   "execution_count": 8,
   "id": "bd1645b3",
   "metadata": {},
   "outputs": [
    {
     "name": "stdout",
     "output_type": "stream",
     "text": [
      "Time to fit model: 669.5262906551361s\n"
     ]
    }
   ],
   "source": [
    "start = time.time()\n",
    "logreg_crop_model = LogisticRegression(solver='lbfgs',max_iter= 5000).fit(X_train_crop, y_train)\n",
    "end = time.time()\n",
    "\n",
    "print('Time to fit model: {}s'.format(end-start))"
   ]
  },
  {
   "cell_type": "code",
   "execution_count": 9,
   "id": "f063735e",
   "metadata": {},
   "outputs": [],
   "source": [
    "# save the model to disk\n",
    "import pickle\n",
    "filename = 'final_model.sav'\n",
    "pickle.dump(logreg_crop_model, open(filename, 'wb'))"
   ]
  },
  {
   "cell_type": "code",
   "execution_count": 10,
   "id": "44849871",
   "metadata": {},
   "outputs": [
    {
     "name": "stdout",
     "output_type": "stream",
     "text": [
      "Train Error: 4.35 %\n",
      "Test Error: 6.78 %\n",
      "\n"
     ]
    }
   ],
   "source": [
    "# load the model from disk\n",
    "loaded_model = pickle.load(open(filename, 'rb'))\n",
    "\n",
    "preds_train_crop = loaded_model.predict(X_train_crop)\n",
    "preds_test_crop = loaded_model.predict(X_test_crop)\n",
    "\n",
    "# Evaluation\n",
    "print('Train Error: {} %'.format(np.mean(preds_train_crop != y_train)*100))\n",
    "print('Test Error: {} %\\n'.format(np.mean(preds_test_crop != y_test)*100))"
   ]
  },
  {
   "cell_type": "code",
   "execution_count": null,
   "id": "b1b53846",
   "metadata": {},
   "outputs": [],
   "source": []
  }
 ],
 "metadata": {
  "kernelspec": {
   "display_name": "Python 3",
   "language": "python",
   "name": "python3"
  },
  "language_info": {
   "codemirror_mode": {
    "name": "ipython",
    "version": 3
   },
   "file_extension": ".py",
   "mimetype": "text/x-python",
   "name": "python",
   "nbconvert_exporter": "python",
   "pygments_lexer": "ipython3",
   "version": "3.8.5"
  }
 },
 "nbformat": 4,
 "nbformat_minor": 5
}
